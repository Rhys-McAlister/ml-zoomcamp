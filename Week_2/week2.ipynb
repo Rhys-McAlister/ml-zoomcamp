{
 "cells": [
  {
   "cell_type": "code",
   "execution_count": 1,
   "metadata": {
    "ExecuteTime": {
     "end_time": "2023-07-08T01:28:10.442144800Z",
     "start_time": "2023-07-08T01:28:10.279376200Z"
    }
   },
   "outputs": [],
   "source": [
    "import pandas as pd\n",
    "import matplotlib.pyplot as plt\n",
    "import seaborn as sns\n",
    "import numpy as np\n",
    "from typing import List\n",
    "from sklearn.preprocessing import OneHotEncoder\n"
   ]
  },
  {
   "cell_type": "code",
   "execution_count": 2,
   "metadata": {
    "ExecuteTime": {
     "end_time": "2023-07-08T01:28:10.500602700Z",
     "start_time": "2023-07-08T01:28:10.442144800Z"
    }
   },
   "outputs": [],
   "source": [
    "%matplotlib inline"
   ]
  },
  {
   "cell_type": "code",
   "execution_count": 3,
   "metadata": {
    "ExecuteTime": {
     "end_time": "2023-07-08T01:28:10.528679700Z",
     "start_time": "2023-07-08T01:28:10.511603900Z"
    }
   },
   "outputs": [],
   "source": [
    "def fetch_data(url: str) -> pd.DataFrame:\n",
    "    df = pd.read_csv(url)\n",
    "    return df\n",
    "\n",
    "def clean_columns(df: pd.DataFrame) -> pd.DataFrame:\n",
    "    df.columns = df.columns.str.lower().str.replace(' ', '_')\n",
    "    return df    \n",
    "        \n",
    "def find_string_cols(df: pd.DataFrame) -> List[str]:\n",
    "    return df.select_dtypes(include='object').columns.tolist()\n",
    "\n",
    "def clean_data(df: pd.DataFrame) -> pd.DataFrame:\n",
    "    df = clean_columns(df)\n",
    "    string_cols = find_string_cols(df)\n",
    "    for col in string_cols:\n",
    "        df[col] = df[col].str.lower().str.replace(' ', '_')\n",
    "\n",
    "    return df\n",
    "\n",
    "def log_variables(df: pd.DataFrame, cols_to_transform: List[str]) -> pd.DataFrame:\n",
    "    for col in cols_to_transform:\n",
    "        df[col] = np.log1p(df[col])\n",
    "    return df\n",
    "\n",
    "def train_test_val_split(df: pd.DataFrame, val_split: float = 0.2, test_split: float = 0.2) -> pd.DataFrame:\n",
    "    \"\"\"\n",
    "    Function to split a dataframe into train, test, and validation sets.\n",
    "\n",
    "    \n",
    "    Args:\n",
    "        df (pd.DataFrame): dataframe to split\n",
    "        val_split (float): percentage of data to use for validation\n",
    "        test_split (float): percentage of data to use for testing\n",
    "\n",
    "    Returns:\n",
    "        pd.DataFrame: train, test, and validation sets\n",
    "\n",
    "    \"\"\"\n",
    "    assert val_split + test_split < 1, \"val_split + test_split must be less than 1\"\n",
    "\n",
    "    n_train = int(len(df) * (1 - val_split - test_split))\n",
    "    n_val = int(len(df) * val_split)\n",
    "    n_test = len(df) - n_train - n_val\n",
    "\n",
    "    train_set = df[:n_train]\n",
    "    test_set = df[n_train:(n_train + n_test)]\n",
    "    val_set = df[(n_train + n_test):]\n",
    "\n",
    "    return train_set, test_set, val_set\n",
    "\n",
    "def impute_missing_values(df: pd.DataFrame, strategy: str) -> pd.DataFrame:\n",
    "    \"\"\"\n",
    "    Function to impute missing values in a dataframe.\n",
    "\n",
    "    Args:\n",
    "        df (pd.DataFrame): dataframe to impute\n",
    "        strategy (str): strategy to use for imputation. Must be one of 'median', 'mean', or 'zero'\n",
    "\n",
    "    Returns:\n",
    "        pd.DataFrame: dataframe with imputed values\n",
    "    \"\"\"\n",
    "\n",
    "    missing_cols = df.columns[df.isnull().any()].tolist()\n",
    "    \n",
    "    if strategy == 'median':\n",
    "        for col in missing_cols:\n",
    "            df.loc[:, col] = df[col].fillna(df[col].median())\n",
    "        return df\n",
    "\n",
    "    elif strategy == 'mean':\n",
    "        for col in missing_cols:\n",
    "            df.loc[:, col] = df[col].fillna(df[col].mean())\n",
    "        return df\n",
    "    \n",
    "    elif strategy == 'zero':\n",
    "            for col in missing_cols:\n",
    "                df.loc[:, col] = df[col].fillna(0)\n",
    "            return df\n",
    "    else: \n",
    "        raise ValueError(\"strategy must be one of 'median', 'mean', or 'zero'\")\n",
    "\n",
    "def train_linear_regression(X, y):\n",
    "    \"\"\"\n",
    "    Function to train a linear regression model.\n",
    "\n",
    "    Args:\n",
    "        X (np.array): array of features\n",
    "        y (np.array): array of target values\n",
    "\n",
    "    Returns:\n",
    "        tuple: intercept, coefficients and predicted y_vals\n",
    "    \"\"\"\n",
    "    X = np.column_stack([np.ones([len(X), 1]), X])\n",
    "    weights = np.linalg.inv(X.T.dot(X)).dot(X.T).dot(y)\n",
    "    y_pred = X.dot(weights)\n",
    "    return weights[0], weights[1:], y_pred\n",
    "\n",
    "def train_linear_regression_reg(X: np.array, y: np.array, reg_term: float = 0.001):\n",
    "    \"\"\"\n",
    "    Function to train a linear regression model.\n",
    "\n",
    "    Args:\n",
    "        X (np.array): array of features\n",
    "        y (np.array): array of target values\n",
    "\n",
    "    Returns:\n",
    "        tuple: intercept, coefficients and predicted y_vals\n",
    "    \"\"\"\n",
    "    X = np.column_stack([np.ones([len(X), 1]), X])\n",
    "    xtx = X.T.dot(X)\n",
    "    xtx = xtx + reg_term * np.eye(xtx.shape[0])\n",
    "\n",
    "    weights = (np.linalg.inv(xtx)).dot(X.T).dot(y)\n",
    "    y_pred = X.dot(weights)\n",
    "    return weights[0], weights[1:], y_pred\n",
    " \n",
    "\n",
    "\n",
    "def rmse(y, y_pred):\n",
    "    \"\"\"\n",
    "    Function to calculate root mean squared error.\n",
    "\n",
    "    Args:\n",
    "        y (np.array): array of target values\n",
    "        y_pred (np.array): array of predicted values\n",
    "\n",
    "    Returns:\n",
    "        float: root mean squared error\n",
    "    \"\"\"\n",
    "    return np.sqrt(np.mean((y - y_pred)**2))\n",
    "\n",
    "def prepare_data(df: pd.DataFrame, base_cols: List[str], impute_strategy: str) -> np.array:\n",
    "    \"\"\"\n",
    "    Function to prepare data for linear regression.\n",
    "\n",
    "    Args:\n",
    "        df (pd.DataFrame): dataframe to prepare\n",
    "        base_cols (List[str]): list of columns to use as base feature set\n",
    "        impute_strategy (str): strategy to use for imputation. Must be one of 'median', 'mean', or 'zero'\n",
    "\n",
    "    Returns:\n",
    "        array: array of features\n",
    "    \"\"\"\n",
    "    features = base_cols.copy()\n",
    "    df = feature_engineering(df.copy())\n",
    "   \n",
    "    \n",
    "    X = impute_missing_values(df[base_cols + ['age']], strategy=impute_strategy)\n",
    "    return X.values\n",
    "\n",
    "\n",
    "def predict(val_data: pd.DataFrame, intercept: float, weights: np.array) -> np.array:\n",
    "    \"\"\"\n",
    "    Function to predict target values.\n",
    "\n",
    "    Args:\n",
    "        val_data (pd.DataFrame): dataframe to predict\n",
    "        intercept (float): intercept value\n",
    "        weights (np.array): array of weights\n",
    "\n",
    "    Returns:\n",
    "        array: array of predicted values\n",
    "    \"\"\"\n",
    "\n",
    "    y_pred = intercept + val_data.dot(weights)\n",
    "    return y_pred\n",
    "\n",
    "def feature_engineering(df: pd.DataFrame) -> pd.DataFrame:\n",
    "    \"\"\"\n",
    "    Function that creates new features from existing ones.\n",
    "\n",
    "    New features:\n",
    "\n",
    "    - age: age of the car in years at the time of sale\n",
    "\n",
    "    Args:\n",
    "        df (pd.DataFrame): dataframe to engineer\n",
    "\n",
    "    Returns:\n",
    "        pd.DataFrame: dataframe with new features\n",
    "    \"\"\"\n",
    "    df = df.assign(age = lambda x: 2023 - x['year'])\n",
    "\n",
    "    \n",
    "    return df\n",
    "\n",
    "def one_hot_encode(df: pd.DataFrame, columns: List[str]) -> pd.DataFrame:\n",
    "    \"\"\"\n",
    "    One hot encodes the specified columns in the given dataframe and returns the modified dataframe.\n",
    "\n",
    "    Parameters:\n",
    "    df (pd.DataFrame): The dataframe to be modified.\n",
    "    columns (List[str]): The list of column names to be one hot encoded.\n",
    "\n",
    "    Returns:\n",
    "    pd.DataFrame: The modified dataframe with the specified columns one hot encoded.\n",
    "    \"\"\"\n",
    "    encoder = OneHotEncoder(sparse_output=False)\n",
    "    encoded_cols = encoder.fit_transform(df[columns])\n",
    "    encoded_cols_df = pd.DataFrame(encoded_cols, columns=encoder.get_feature_names_out(columns))\n",
    "    df = pd.concat([df.drop(columns, axis=1), encoded_cols_df], axis=1)\n",
    "    return df\n",
    "\n",
    "    \n",
    "\n",
    "# Unit test\n",
    "def test_one_hot_encode():\n",
    "    df = pd.DataFrame({'A': ['a', 'b', 'c'], 'B': ['x', 'y', 'z'], 'C': [1, 2, 3]})\n",
    "    columns = ['A', 'B']\n",
    "    df_encoded = one_hot_encode(df, columns)\n",
    "    assert df_encoded.shape == (3, 7)\n",
    "    assert list(df_encoded.columns) == ['C', 'A_a', 'A_b', 'A_c', 'B_x', 'B_y', 'B_z']\n",
    "\n",
    "test_one_hot_encode()\n",
    "    \n",
    "\n",
    "\n",
    "\n",
    "\n",
    "\n",
    "\n",
    "    \n",
    "    \n"
   ]
  },
  {
   "cell_type": "code",
   "execution_count": 4,
   "metadata": {
    "ExecuteTime": {
     "end_time": "2023-07-08T01:28:12.437113600Z",
     "start_time": "2023-07-08T01:28:10.529679100Z"
    }
   },
   "outputs": [],
   "source": [
    "url = \"https://raw.githubusercontent.com/alexeygrigorev/mlbookcamp-code/master/chapter-02-car-price/data.csv\"\n",
    "df = fetch_data(url=url)\n",
    "df = clean_data(df)\n"
   ]
  },
  {
   "cell_type": "code",
   "execution_count": 5,
   "metadata": {
    "ExecuteTime": {
     "end_time": "2023-07-08T01:28:12.502510100Z",
     "start_time": "2023-07-08T01:28:12.441113Z"
    }
   },
   "outputs": [
    {
     "data": {
      "text/plain": "0.5094717135729182"
     },
     "execution_count": 5,
     "metadata": {},
     "output_type": "execute_result"
    }
   ],
   "source": [
    "train_set, test_set, val_set = train_test_val_split(df, val_split=0.2, test_split=0.2)\n",
    "y_train = np.log1p(train_set.msrp.values); y_test = np.log1p(test_set.msrp.values); y_val = np.log1p(val_set.msrp.values)\n",
    "\n",
    "# drop msrp from train, test, and val sets\n",
    "train_set = train_set.drop('msrp', axis=1)\n",
    "test_set = test_set.drop('msrp', axis=1)\n",
    "val_set = val_set.drop('msrp', axis=1)\n",
    "\n",
    "base = ['engine_hp', 'engine_cylinders', 'highway_mpg',\n",
    "         'city_mpg', 'popularity']\n",
    "\n",
    "\n",
    "\n",
    "X_train = prepare_data(train_set, base, impute_strategy='zero')\n",
    "X_val = prepare_data(val_set, base, impute_strategy='zero')\n",
    "\n",
    "w0, w, y_pred = train_linear_regression_reg(X_train, y_train)\n",
    "\n",
    "rmse(y_train, y_pred)\n",
    "\n",
    "val_preds = predict(X_val, w0, w)\n",
    "val_rmse = rmse(y_val, val_preds)\n",
    "val_rmse\n",
    "# sns.histplot(y_pred, color='red', alpha=0.5, bins=50)\n",
    "# sns.histplot(y_train, color='blue', alpha=0.5, bins=50)\n"
   ]
  },
  {
   "attachments": {},
   "cell_type": "markdown",
   "metadata": {},
   "source": [
    "# Homework"
   ]
  },
  {
   "cell_type": "code",
   "execution_count": 6,
   "metadata": {
    "ExecuteTime": {
     "end_time": "2023-07-08T01:28:14.681257600Z",
     "start_time": "2023-07-08T01:28:12.502510100Z"
    }
   },
   "outputs": [
    {
     "data": {
      "text/plain": "<Figure size 640x480 with 1 Axes>",
      "image/png": "[encoded data removed]"
     },
     "metadata": {},
     "output_type": "display_data"
    }
   ],
   "source": [
    "url = \"https://raw.githubusercontent.com/alexeygrigorev/datasets/master/housing.csv\"\n",
    "\n",
    "\n",
    "\n",
    "\n",
    "data = fetch_data(url=url)\n",
    "\n",
    "sns.histplot(data.median_house_value, bins=50)\n",
    "plt.show()\n",
    "\n",
    "# select 'latitude' and 'longitude' columns\n",
    "data = data[['longitude', 'latitude', 'housing_median_age', 'total_rooms',\n",
    "       'total_bedrooms', 'population', 'households', 'median_income',\n",
    "       'median_house_value']]\n"
   ]
  },
  {
   "cell_type": "code",
   "execution_count": 7,
   "metadata": {
    "ExecuteTime": {
     "end_time": "2023-07-08T01:28:14.688691900Z",
     "start_time": "2023-07-08T01:28:14.682256700Z"
    }
   },
   "outputs": [
    {
     "data": {
      "text/plain": "longitude               0\nlatitude                0\nhousing_median_age      0\ntotal_rooms             0\ntotal_bedrooms        207\npopulation              0\nhouseholds              0\nmedian_income           0\nmedian_house_value      0\ndtype: int64"
     },
     "execution_count": 7,
     "metadata": {},
     "output_type": "execute_result"
    }
   ],
   "source": [
    "# check for missing values\n",
    "data.isnull().sum()"
   ]
  },
  {
   "cell_type": "code",
   "execution_count": 8,
   "metadata": {
    "ExecuteTime": {
     "end_time": "2023-07-08T01:28:14.695944Z",
     "start_time": "2023-07-08T01:28:14.688691900Z"
    }
   },
   "outputs": [
    {
     "data": {
      "text/plain": "1166.0"
     },
     "execution_count": 8,
     "metadata": {},
     "output_type": "execute_result"
    }
   ],
   "source": [
    "data.population.median()"
   ]
  },
  {
   "cell_type": "code",
   "execution_count": 9,
   "metadata": {
    "ExecuteTime": {
     "end_time": "2023-07-08T01:28:14.704417100Z",
     "start_time": "2023-07-08T01:28:14.692946Z"
    }
   },
   "outputs": [],
   "source": [
    "# shuffle the dataset\n",
    "data = data.sample(frac=1, random_state=42)\n",
    "\n",
    "# # split the dataset into train, val and test sets\n",
    "# n = len(data)\n",
    "# n_val = int(0.2 * n)\n",
    "# n_test = int(0.2 * n)\n",
    "# n_train = n - n_val - n_test\n",
    "\n",
    "\n",
    "# df_train = data.iloc[:n_train]\n",
    "# df_val = data.iloc[n_train:n_train+n_val]\n",
    "# df_test = data.iloc[n_train+n_val:]\n",
    "\n",
    "# # reset the indices\n",
    "# df_train = df_train.reset_index(drop=True)\n",
    "# df_val = df_val.reset_index(drop=True)\n",
    "# df_test = df_test.reset_index(drop=True)\n",
    "\n",
    "\n",
    "\n"
   ]
  },
  {
   "cell_type": "code",
   "execution_count": 10,
   "metadata": {
    "ExecuteTime": {
     "end_time": "2023-07-08T01:28:14.705418Z",
     "start_time": "2023-07-08T01:28:14.700145900Z"
    }
   },
   "outputs": [],
   "source": [
    "train_set, test_set, val_set = train_test_val_split(data, val_split=0.2, test_split=0.2)"
   ]
  },
  {
   "cell_type": "code",
   "execution_count": 11,
   "metadata": {
    "ExecuteTime": {
     "end_time": "2023-07-08T01:28:14.803155900Z",
     "start_time": "2023-07-08T01:28:14.704417100Z"
    }
   },
   "outputs": [
    {
     "data": {
      "text/plain": "       longitude  latitude  housing_median_age  total_rooms  total_bedrooms   \n20046    -119.01     36.06                25.0       1505.0             NaN  \\\n\n       population  households  median_income  median_house_value  \n20046      1392.0       359.0         1.6812             47700.0  ",
      "text/html": "<div>\n<style scoped>\n    .dataframe tbody tr th:only-of-type {\n        vertical-align: middle;\n    }\n\n    .dataframe tbody tr th {\n        vertical-align: top;\n    }\n\n    .dataframe thead th {\n        text-align: right;\n    }\n</style>\n<table border=\"1\" class=\"dataframe\">\n  <thead>\n    <tr style=\"text-align: right;\">\n      <th></th>\n      <th>longitude</th>\n      <th>latitude</th>\n      <th>housing_median_age</th>\n      <th>total_rooms</th>\n      <th>total_bedrooms</th>\n      <th>population</th>\n      <th>households</th>\n      <th>median_income</th>\n      <th>median_house_value</th>\n    </tr>\n  </thead>\n  <tbody>\n    <tr>\n      <th>20046</th>\n      <td>-119.01</td>\n      <td>36.06</td>\n      <td>25.0</td>\n      <td>1505.0</td>\n      <td>NaN</td>\n      <td>1392.0</td>\n      <td>359.0</td>\n      <td>1.6812</td>\n      <td>47700.0</td>\n    </tr>\n  </tbody>\n</table>\n</div>"
     },
     "execution_count": 11,
     "metadata": {},
     "output_type": "execute_result"
    }
   ],
   "source": [
    "train_set.head(1)"
   ]
  },
  {
   "cell_type": "code",
   "execution_count": 12,
   "metadata": {
    "ExecuteTime": {
     "end_time": "2023-07-08T01:28:14.803155900Z",
     "start_time": "2023-07-08T01:28:14.722084200Z"
    }
   },
   "outputs": [],
   "source": [
    "def prepare_data(df: pd.DataFrame, impute_strategy: str) -> np.array:\n",
    "    \"\"\"\n",
    "    Function to prepare data for training.\n",
    "\n",
    "    Args:\n",
    "        df (pd.DataFrame): dataframe to prepare\n",
    "        base_cols (List[str]): list of columns to use as base feature set\n",
    "        impute_strategy (str): strategy to use for imputation. Must be one of 'median', 'mean', or 'zero'\n",
    "\n",
    "    Returns:\n",
    "        array: array of features\n",
    "    \"\"\"\n",
    "    y = np.log1p(df.median_house_value)\n",
    "    df = df.drop('median_house_value', axis=1)\n",
    "    df = impute_missing_values(df, impute_strategy)\n",
    "\n",
    "    return df.values, y.values \n",
    "\n",
    "X_train, y_train = prepare_data(train_set, impute_strategy='mean')"
   ]
  },
  {
   "cell_type": "code",
   "execution_count": 13,
   "metadata": {
    "ExecuteTime": {
     "end_time": "2023-07-08T01:28:14.803155900Z",
     "start_time": "2023-07-08T01:28:14.726518500Z"
    }
   },
   "outputs": [],
   "source": [
    "w0, w, y_pred = train_linear_regression(X_train, y_train)"
   ]
  },
  {
   "cell_type": "code",
   "execution_count": 13,
   "metadata": {
    "ExecuteTime": {
     "end_time": "2023-07-08T01:28:14.804155400Z",
     "start_time": "2023-07-08T01:28:14.734647300Z"
    }
   },
   "outputs": [],
   "source": []
  }
 ],
 "metadata": {
  "kernelspec": {
   "display_name": "loll",
   "language": "python",
   "name": "python3"
  },
  "language_info": {
   "codemirror_mode": {
    "name": "ipython",
    "version": 3
   },
   "file_extension": ".py",
   "mimetype": "text/x-python",
   "name": "python",
   "nbconvert_exporter": "python",
   "pygments_lexer": "ipython3",
   "version": "3.11.2"
  },
  "orig_nbformat": 4
 },
 "nbformat": 4,
 "nbformat_minor": 2
}
